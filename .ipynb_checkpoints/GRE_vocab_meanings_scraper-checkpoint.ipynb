{
 "cells": [
  {
   "cell_type": "code",
   "execution_count": 1,
   "id": "609dd903-4f13-4710-8315-7c94e8ad9519",
   "metadata": {},
   "outputs": [],
   "source": [
    "import pandas as pd\n",
    "from PyDictionary import PyDictionary "
   ]
  },
  {
   "cell_type": "code",
   "execution_count": 2,
   "id": "fda21725-da51-44bb-9944-7709eaab421c",
   "metadata": {},
   "outputs": [],
   "source": [
    "dictionary = PyDictionary()"
   ]
  },
  {
   "cell_type": "code",
   "execution_count": 11,
   "id": "2857b713-9299-4178-8535-36611f3c0aa5",
   "metadata": {},
   "outputs": [
    {
     "name": "stdout",
     "output_type": "stream",
     "text": [
      "Hotel:\n",
      "Noun:\n",
      "a building where travelers can pay for lodging and meals and other services\n",
      "Ambush:\n",
      "Noun:\n",
      "the act of concealing yourself and lying in wait to attack by surprise\n",
      "Verb:\n",
      "wait in hiding to attack\n",
      "hunt (quarry\n",
      "Nonchalant:\n",
      "Adjective:\n",
      "marked by blithe unconcern\n",
      "Perceptive:\n",
      "Adjective:\n",
      "of or relating to perception\n",
      "having the ability to perceive or understand; keen in discernment\n",
      "<class 'NoneType'>\n"
     ]
    }
   ],
   "source": [
    "dictionary=PyDictionary(\"hotel\",\"ambush\",\"nonchalant\",\"perceptive\")\n",
    "# 'There can be any number of words in the Instance'\n",
    "\n",
    "# print(dictionary.printMeanings()) '''This print the meanings of all the words'''\n",
    "# print(dictionary.getMeanings()) '''This will return meanings as dictionaries'''\n",
    "# print (dictionary.getSynonyms())\n",
    "print(type(dictionary.printMeanings()))"
   ]
  },
  {
   "cell_type": "code",
   "execution_count": null,
   "id": "e554877d-51d1-4afa-8980-15939eff7238",
   "metadata": {},
   "outputs": [],
   "source": [
    "path = \n",
    "pd.read_csv(\"Vince's GRE Vocab Compilation and Curation - The Words.csv\"\n"
   ]
  }
 ],
 "metadata": {
  "kernelspec": {
   "display_name": "stockpred",
   "language": "python",
   "name": "stockpred"
  },
  "language_info": {
   "codemirror_mode": {
    "name": "ipython",
    "version": 3
   },
   "file_extension": ".py",
   "mimetype": "text/x-python",
   "name": "python",
   "nbconvert_exporter": "python",
   "pygments_lexer": "ipython3",
   "version": "3.11.5"
  }
 },
 "nbformat": 4,
 "nbformat_minor": 5
}
