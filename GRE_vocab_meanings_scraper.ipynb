{
 "cells": [
  {
   "cell_type": "code",
   "execution_count": 1,
   "id": "609dd903-4f13-4710-8315-7c94e8ad9519",
   "metadata": {},
   "outputs": [
    {
     "name": "stderr",
     "output_type": "stream",
     "text": [
      "[nltk_data] Downloading package wordnet to\n",
      "[nltk_data]     /Users/harishsatheesh/nltk_data...\n",
      "[nltk_data]   Package wordnet is already up-to-date!\n"
     ]
    },
    {
     "data": {
      "text/plain": [
       "True"
      ]
     },
     "execution_count": 1,
     "metadata": {},
     "output_type": "execute_result"
    }
   ],
   "source": [
    "import pandas as pd\n",
    "import nltk\n",
    "# from nltk.corpus import wordnet\n",
    "nltk.download('wordnet') "
   ]
  },
  {
   "cell_type": "code",
   "execution_count": 2,
   "id": "e554877d-51d1-4afa-8980-15939eff7238",
   "metadata": {},
   "outputs": [],
   "source": [
    "path = \"Vince's GRE Vocab Compilation and Curation - The Words.csv\"\n",
    "df = pd.read_csv(\"Vince's GRE Vocab Compilation and Curation - The Words.csv\")\n"
   ]
  },
  {
   "cell_type": "code",
   "execution_count": 3,
   "id": "b2d4c5a8-f042-429f-b530-5a9dc819829b",
   "metadata": {},
   "outputs": [
    {
     "data": {
      "text/plain": [
       "Index(['Unnamed: 0', 'Vince's Vocab Cartoons App', 'Gregmat', 'Magoosh',\n",
       "       'Manhattan', 'Prep Scholar', 'Powerscore', 'Greenlight Basic',\n",
       "       'Greenlight Advanced'],\n",
       "      dtype='object')"
      ]
     },
     "execution_count": 3,
     "metadata": {},
     "output_type": "execute_result"
    }
   ],
   "source": [
    "df.columns"
   ]
  },
  {
   "cell_type": "code",
   "execution_count": 4,
   "id": "95560137-6067-47b5-afcc-375a6705ea66",
   "metadata": {},
   "outputs": [
    {
     "data": {
      "text/html": [
       "<div>\n",
       "<style scoped>\n",
       "    .dataframe tbody tr th:only-of-type {\n",
       "        vertical-align: middle;\n",
       "    }\n",
       "\n",
       "    .dataframe tbody tr th {\n",
       "        vertical-align: top;\n",
       "    }\n",
       "\n",
       "    .dataframe thead th {\n",
       "        text-align: right;\n",
       "    }\n",
       "</style>\n",
       "<table border=\"1\" class=\"dataframe\">\n",
       "  <thead>\n",
       "    <tr style=\"text-align: right;\">\n",
       "      <th></th>\n",
       "      <th>Vince's Vocab Cartoons App</th>\n",
       "      <th>Gregmat</th>\n",
       "      <th>Magoosh</th>\n",
       "      <th>Manhattan</th>\n",
       "      <th>Prep Scholar</th>\n",
       "      <th>Powerscore</th>\n",
       "      <th>Greenlight Basic</th>\n",
       "      <th>Greenlight Advanced</th>\n",
       "    </tr>\n",
       "  </thead>\n",
       "  <tbody>\n",
       "    <tr>\n",
       "      <th>0</th>\n",
       "      <td>abase</td>\n",
       "      <td>abate</td>\n",
       "      <td>aberrant</td>\n",
       "      <td>abase</td>\n",
       "      <td>abate</td>\n",
       "      <td>abdicate</td>\n",
       "      <td>abash</td>\n",
       "      <td>abjure</td>\n",
       "    </tr>\n",
       "    <tr>\n",
       "      <th>1</th>\n",
       "      <td>abashed</td>\n",
       "      <td>abet</td>\n",
       "      <td>aberration</td>\n",
       "      <td>abate</td>\n",
       "      <td>aberrant</td>\n",
       "      <td>aberrant</td>\n",
       "      <td>abate</td>\n",
       "      <td>abrogate</td>\n",
       "    </tr>\n",
       "    <tr>\n",
       "      <th>2</th>\n",
       "      <td>abate</td>\n",
       "      <td>abhor</td>\n",
       "      <td>abjure</td>\n",
       "      <td>abdicate</td>\n",
       "      <td>abjure</td>\n",
       "      <td>abeyance</td>\n",
       "      <td>aberrant</td>\n",
       "      <td>abscission</td>\n",
       "    </tr>\n",
       "    <tr>\n",
       "      <th>3</th>\n",
       "      <td>aberration</td>\n",
       "      <td>abjure</td>\n",
       "      <td>aboveboard</td>\n",
       "      <td>aberrant</td>\n",
       "      <td>abscond</td>\n",
       "      <td>abjure</td>\n",
       "      <td>abject</td>\n",
       "      <td>acarpous</td>\n",
       "    </tr>\n",
       "    <tr>\n",
       "      <th>4</th>\n",
       "      <td>abeyance</td>\n",
       "      <td>abound</td>\n",
       "      <td>abrogate</td>\n",
       "      <td>abeyance</td>\n",
       "      <td>abstain</td>\n",
       "      <td>abstemious</td>\n",
       "      <td>abrasive</td>\n",
       "      <td>accession</td>\n",
       "    </tr>\n",
       "    <tr>\n",
       "      <th>...</th>\n",
       "      <td>...</td>\n",
       "      <td>...</td>\n",
       "      <td>...</td>\n",
       "      <td>...</td>\n",
       "      <td>...</td>\n",
       "      <td>...</td>\n",
       "      <td>...</td>\n",
       "      <td>...</td>\n",
       "    </tr>\n",
       "    <tr>\n",
       "      <th>1295</th>\n",
       "      <td>NaN</td>\n",
       "      <td>NaN</td>\n",
       "      <td>NaN</td>\n",
       "      <td>NaN</td>\n",
       "      <td>NaN</td>\n",
       "      <td>NaN</td>\n",
       "      <td>NaN</td>\n",
       "      <td>NaN</td>\n",
       "    </tr>\n",
       "    <tr>\n",
       "      <th>1296</th>\n",
       "      <td>NaN</td>\n",
       "      <td>NaN</td>\n",
       "      <td>NaN</td>\n",
       "      <td>NaN</td>\n",
       "      <td>NaN</td>\n",
       "      <td>NaN</td>\n",
       "      <td>NaN</td>\n",
       "      <td>NaN</td>\n",
       "    </tr>\n",
       "    <tr>\n",
       "      <th>1297</th>\n",
       "      <td>NaN</td>\n",
       "      <td>NaN</td>\n",
       "      <td>NaN</td>\n",
       "      <td>NaN</td>\n",
       "      <td>NaN</td>\n",
       "      <td>NaN</td>\n",
       "      <td>NaN</td>\n",
       "      <td>NaN</td>\n",
       "    </tr>\n",
       "    <tr>\n",
       "      <th>1298</th>\n",
       "      <td>NaN</td>\n",
       "      <td>NaN</td>\n",
       "      <td>NaN</td>\n",
       "      <td>NaN</td>\n",
       "      <td>NaN</td>\n",
       "      <td>NaN</td>\n",
       "      <td>NaN</td>\n",
       "      <td>NaN</td>\n",
       "    </tr>\n",
       "    <tr>\n",
       "      <th>1299</th>\n",
       "      <td>NaN</td>\n",
       "      <td>NaN</td>\n",
       "      <td>NaN</td>\n",
       "      <td>NaN</td>\n",
       "      <td>NaN</td>\n",
       "      <td>NaN</td>\n",
       "      <td>NaN</td>\n",
       "      <td>NaN</td>\n",
       "    </tr>\n",
       "  </tbody>\n",
       "</table>\n",
       "<p>1300 rows × 8 columns</p>\n",
       "</div>"
      ],
      "text/plain": [
       "     Vince's Vocab Cartoons App Gregmat     Magoosh Manhattan Prep Scholar  \\\n",
       "0                         abase   abate    aberrant     abase        abate   \n",
       "1                       abashed    abet  aberration     abate     aberrant   \n",
       "2                         abate   abhor      abjure  abdicate       abjure   \n",
       "3                    aberration  abjure  aboveboard  aberrant      abscond   \n",
       "4                      abeyance  abound    abrogate  abeyance      abstain   \n",
       "...                         ...     ...         ...       ...          ...   \n",
       "1295                        NaN     NaN         NaN       NaN          NaN   \n",
       "1296                        NaN     NaN         NaN       NaN          NaN   \n",
       "1297                        NaN     NaN         NaN       NaN          NaN   \n",
       "1298                        NaN     NaN         NaN       NaN          NaN   \n",
       "1299                        NaN     NaN         NaN       NaN          NaN   \n",
       "\n",
       "      Powerscore Greenlight Basic Greenlight Advanced  \n",
       "0       abdicate            abash              abjure  \n",
       "1       aberrant            abate            abrogate  \n",
       "2       abeyance         aberrant          abscission  \n",
       "3         abjure           abject            acarpous  \n",
       "4     abstemious         abrasive           accession  \n",
       "...          ...              ...                 ...  \n",
       "1295         NaN              NaN                 NaN  \n",
       "1296         NaN              NaN                 NaN  \n",
       "1297         NaN              NaN                 NaN  \n",
       "1298         NaN              NaN                 NaN  \n",
       "1299         NaN              NaN                 NaN  \n",
       "\n",
       "[1300 rows x 8 columns]"
      ]
     },
     "execution_count": 4,
     "metadata": {},
     "output_type": "execute_result"
    }
   ],
   "source": [
    "df.drop(columns=\"Unnamed: 0\") #dropping the word count column"
   ]
  },
  {
   "cell_type": "code",
   "execution_count": 5,
   "id": "cab267ba-2197-44c5-989b-5d833af4af68",
   "metadata": {},
   "outputs": [],
   "source": [
    "df = pd.concat(df[col] for col in df.columns) #putting all words in one column"
   ]
  },
  {
   "cell_type": "code",
   "execution_count": 6,
   "id": "17031ab1-6e12-4dbd-96e0-662dfeb7230a",
   "metadata": {},
   "outputs": [],
   "source": [
    "df = df.reset_index(drop=True) #resetting the index so the old indices don't persist"
   ]
  },
  {
   "cell_type": "code",
   "execution_count": 7,
   "id": "7654dfb3-fcfc-4800-aabc-6fecdf2b41d9",
   "metadata": {},
   "outputs": [
    {
     "data": {
      "text/plain": [
       "count           7304\n",
       "unique          4183\n",
       "top       meticulous\n",
       "freq               7\n",
       "dtype: object"
      ]
     },
     "execution_count": 7,
     "metadata": {},
     "output_type": "execute_result"
    }
   ],
   "source": [
    "df.describe()"
   ]
  },
  {
   "cell_type": "code",
   "execution_count": 8,
   "id": "ced4c761-0304-405d-bab4-cb93b013ee24",
   "metadata": {},
   "outputs": [],
   "source": [
    "df.name = \"words\""
   ]
  },
  {
   "cell_type": "code",
   "execution_count": 9,
   "id": "c1e447f7-6119-4b17-b19e-61a0b83d1dca",
   "metadata": {},
   "outputs": [],
   "source": [
    "df = df.drop_duplicates() #making sure the words are unique within the series"
   ]
  },
  {
   "cell_type": "code",
   "execution_count": 10,
   "id": "28293814-d298-4197-a7b9-33225ff1dd8b",
   "metadata": {},
   "outputs": [],
   "source": [
    "df=df.dropna()"
   ]
  },
  {
   "cell_type": "code",
   "execution_count": 11,
   "id": "8e68f4eb-4e27-45df-a2ba-9ceb6163ab54",
   "metadata": {},
   "outputs": [
    {
     "data": {
      "text/plain": [
       "count     4183\n",
       "unique    4183\n",
       "top          1\n",
       "freq         1\n",
       "Name: words, dtype: int64"
      ]
     },
     "execution_count": 11,
     "metadata": {},
     "output_type": "execute_result"
    }
   ],
   "source": [
    "df.describe()"
   ]
  },
  {
   "cell_type": "code",
   "execution_count": 12,
   "id": "4e5d237c-c606-41fc-a314-2cce6299fa6c",
   "metadata": {},
   "outputs": [],
   "source": [
    "df = df.drop(df.index[:1301]) #dropping the first 1300 rows because they are just integers "
   ]
  },
  {
   "cell_type": "code",
   "execution_count": 13,
   "id": "bb47d3fd-f3a2-49ea-a388-e66569d208ab",
   "metadata": {},
   "outputs": [
    {
     "data": {
      "text/plain": [
       "2882"
      ]
     },
     "execution_count": 13,
     "metadata": {},
     "output_type": "execute_result"
    }
   ],
   "source": [
    "len(df)"
   ]
  },
  {
   "cell_type": "code",
   "execution_count": 14,
   "id": "382dbe21-664c-4dd2-8f90-fb66a10bd14c",
   "metadata": {
    "scrolled": true
   },
   "outputs": [],
   "source": [
    "from nltk.corpus import wordnet\n",
    "meanings = []\n",
    "examples = []\n",
    "# Iterating over each word in the series\n",
    "for word in df:\n",
    "    synsets = wordnet.synsets(word)\n",
    "    if synsets:\n",
    "        # If synsets exist for the word, append the definition of the first synset to the meanings list\n",
    "        meanings.append(synsets[0].definition())\n",
    "        examples.append(synsets[0].examples())\n",
    "    else:\n",
    "        # If no synsets are found, append None to indicate that no definition was found\n",
    "        meanings.append(None)\n",
    "        examples.append(None)\n",
    "        # print(\"no meanings were found for \",word)\n",
    "\n",
    "synonyms = []\n",
    "for word in df:\n",
    "    inner_list = []\n",
    "    for syn in wordnet.synsets(word):\n",
    "        if syn:\n",
    "            for lemma in syn.lemmas():\n",
    "                inner_list.append(lemma.name())\n",
    "        else:\n",
    "            synonyms.append(None)\n",
    "    synonyms.append(inner_list)\n",
    "    \n",
    "# antonyms = []\n",
    "# for word in df: \n",
    "#     inner_list = []\n",
    "#     for syn in wordnet.synsets(word):\n",
    "#         if syn:\n",
    "#             for lemma in syn.lemmas():\n",
    "#                 if lemma.antonyms():\n",
    "#                     inner_list.append(lemma.antonyms()[0].name())\n",
    "#                 else:\n",
    "#                     inner_list.append(None)\n",
    "#                     # break"
   ]
  },
  {
   "cell_type": "code",
   "execution_count": 15,
   "id": "90a344bd-19aa-4406-ad01-a1683f50eae5",
   "metadata": {
    "scrolled": true
   },
   "outputs": [
    {
     "name": "stdout",
     "output_type": "stream",
     "text": [
      "2882 2882 2882\n"
     ]
    }
   ],
   "source": [
    "print(len(synonyms),len(examples),len(meanings))\n",
    "# print(synonyms)"
   ]
  },
  {
   "cell_type": "code",
   "execution_count": 16,
   "id": "ed0df103-9cf5-4b03-8b3f-70710831fe84",
   "metadata": {},
   "outputs": [],
   "source": [
    "df_dict = { \"Words\" : df , \"Meanings\" : meanings , \"Synonyms\" : synonyms, \"Examples\" : examples} \n",
    "newdf = pd.DataFrame(df_dict)"
   ]
  },
  {
   "cell_type": "code",
   "execution_count": 17,
   "id": "31d7979c-3fbb-4460-a963-a3d781404e90",
   "metadata": {
    "scrolled": true
   },
   "outputs": [
    {
     "data": {
      "text/html": [
       "<div>\n",
       "<style scoped>\n",
       "    .dataframe tbody tr th:only-of-type {\n",
       "        vertical-align: middle;\n",
       "    }\n",
       "\n",
       "    .dataframe tbody tr th {\n",
       "        vertical-align: top;\n",
       "    }\n",
       "\n",
       "    .dataframe thead th {\n",
       "        text-align: right;\n",
       "    }\n",
       "</style>\n",
       "<table border=\"1\" class=\"dataframe\">\n",
       "  <thead>\n",
       "    <tr style=\"text-align: right;\">\n",
       "      <th></th>\n",
       "      <th>Words</th>\n",
       "      <th>Meanings</th>\n",
       "      <th>Synonyms</th>\n",
       "      <th>Examples</th>\n",
       "    </tr>\n",
       "  </thead>\n",
       "  <tbody>\n",
       "    <tr>\n",
       "      <th>1301</th>\n",
       "      <td>abashed</td>\n",
       "      <td>cause to be embarrassed; cause to feel self-co...</td>\n",
       "      <td>[embarrass, abash, abashed, chagrined, embarra...</td>\n",
       "      <td>[]</td>\n",
       "    </tr>\n",
       "    <tr>\n",
       "      <th>1302</th>\n",
       "      <td>abate</td>\n",
       "      <td>make less active or intense</td>\n",
       "      <td>[slake, abate, slack, abate, let_up, slack_off...</td>\n",
       "      <td>[]</td>\n",
       "    </tr>\n",
       "    <tr>\n",
       "      <th>1303</th>\n",
       "      <td>aberration</td>\n",
       "      <td>a state or condition markedly different from t...</td>\n",
       "      <td>[aberrance, aberrancy, aberration, deviance, a...</td>\n",
       "      <td>[]</td>\n",
       "    </tr>\n",
       "    <tr>\n",
       "      <th>1304</th>\n",
       "      <td>abeyance</td>\n",
       "      <td>temporary cessation or suspension</td>\n",
       "      <td>[abeyance, suspension]</td>\n",
       "      <td>[]</td>\n",
       "    </tr>\n",
       "    <tr>\n",
       "      <th>1305</th>\n",
       "      <td>abhor</td>\n",
       "      <td>find repugnant</td>\n",
       "      <td>[abhor, loathe, abominate, execrate]</td>\n",
       "      <td>[I loathe that man, She abhors cats]</td>\n",
       "    </tr>\n",
       "    <tr>\n",
       "      <th>...</th>\n",
       "      <td>...</td>\n",
       "      <td>...</td>\n",
       "      <td>...</td>\n",
       "      <td>...</td>\n",
       "    </tr>\n",
       "    <tr>\n",
       "      <th>10883</th>\n",
       "      <td>veneration</td>\n",
       "      <td>a feeling of profound respect for someone or s...</td>\n",
       "      <td>[fear, reverence, awe, veneration, idolatry, d...</td>\n",
       "      <td>[the fear of God, the Chinese reverence for th...</td>\n",
       "    </tr>\n",
       "    <tr>\n",
       "      <th>10892</th>\n",
       "      <td>viturperate</td>\n",
       "      <td>None</td>\n",
       "      <td>[]</td>\n",
       "      <td>None</td>\n",
       "    </tr>\n",
       "    <tr>\n",
       "      <th>10894</th>\n",
       "      <td>wag</td>\n",
       "      <td>a witty amusing person who makes jokes</td>\n",
       "      <td>[wag, wit, card, wag, waggle, shake, wag, waggle]</td>\n",
       "      <td>[]</td>\n",
       "    </tr>\n",
       "    <tr>\n",
       "      <th>10897</th>\n",
       "      <td>wend</td>\n",
       "      <td>direct one's course or way</td>\n",
       "      <td>[wend]</td>\n",
       "      <td>[wend your way through the crowds]</td>\n",
       "    </tr>\n",
       "    <tr>\n",
       "      <th>10898</th>\n",
       "      <td>wheedle</td>\n",
       "      <td>influence or urge by gentle urging, caressing,...</td>\n",
       "      <td>[wheedle, cajole, palaver, blarney, coax, swee...</td>\n",
       "      <td>[He palavered her into going along]</td>\n",
       "    </tr>\n",
       "  </tbody>\n",
       "</table>\n",
       "<p>2882 rows × 4 columns</p>\n",
       "</div>"
      ],
      "text/plain": [
       "             Words                                           Meanings  \\\n",
       "1301       abashed  cause to be embarrassed; cause to feel self-co...   \n",
       "1302         abate                        make less active or intense   \n",
       "1303    aberration  a state or condition markedly different from t...   \n",
       "1304      abeyance                  temporary cessation or suspension   \n",
       "1305         abhor                                     find repugnant   \n",
       "...            ...                                                ...   \n",
       "10883   veneration  a feeling of profound respect for someone or s...   \n",
       "10892  viturperate                                               None   \n",
       "10894          wag             a witty amusing person who makes jokes   \n",
       "10897         wend                         direct one's course or way   \n",
       "10898      wheedle  influence or urge by gentle urging, caressing,...   \n",
       "\n",
       "                                                Synonyms  \\\n",
       "1301   [embarrass, abash, abashed, chagrined, embarra...   \n",
       "1302   [slake, abate, slack, abate, let_up, slack_off...   \n",
       "1303   [aberrance, aberrancy, aberration, deviance, a...   \n",
       "1304                              [abeyance, suspension]   \n",
       "1305                [abhor, loathe, abominate, execrate]   \n",
       "...                                                  ...   \n",
       "10883  [fear, reverence, awe, veneration, idolatry, d...   \n",
       "10892                                                 []   \n",
       "10894  [wag, wit, card, wag, waggle, shake, wag, waggle]   \n",
       "10897                                             [wend]   \n",
       "10898  [wheedle, cajole, palaver, blarney, coax, swee...   \n",
       "\n",
       "                                                Examples  \n",
       "1301                                                  []  \n",
       "1302                                                  []  \n",
       "1303                                                  []  \n",
       "1304                                                  []  \n",
       "1305                [I loathe that man, She abhors cats]  \n",
       "...                                                  ...  \n",
       "10883  [the fear of God, the Chinese reverence for th...  \n",
       "10892                                               None  \n",
       "10894                                                 []  \n",
       "10897                 [wend your way through the crowds]  \n",
       "10898                [He palavered her into going along]  \n",
       "\n",
       "[2882 rows x 4 columns]"
      ]
     },
     "execution_count": 17,
     "metadata": {},
     "output_type": "execute_result"
    }
   ],
   "source": [
    "newdf"
   ]
  },
  {
   "cell_type": "code",
   "execution_count": 18,
   "id": "4d66acae-9aad-4e00-ad66-e461305b66ca",
   "metadata": {},
   "outputs": [
    {
     "data": {
      "text/plain": [
       "52"
      ]
     },
     "execution_count": 18,
     "metadata": {},
     "output_type": "execute_result"
    }
   ],
   "source": [
    "meanings.count(None)"
   ]
  },
  {
   "cell_type": "code",
   "execution_count": 19,
   "id": "ce5aa718-2705-4bbb-a82c-67a4b4b02c06",
   "metadata": {},
   "outputs": [],
   "source": [
    "newdf.to_csv(\"output.csv\",index=False)"
   ]
  }
 ],
 "metadata": {
  "kernelspec": {
   "display_name": "stockpred",
   "language": "python",
   "name": "stockpred"
  },
  "language_info": {
   "codemirror_mode": {
    "name": "ipython",
    "version": 3
   },
   "file_extension": ".py",
   "mimetype": "text/x-python",
   "name": "python",
   "nbconvert_exporter": "python",
   "pygments_lexer": "ipython3",
   "version": "3.11.5"
  }
 },
 "nbformat": 4,
 "nbformat_minor": 5
}
